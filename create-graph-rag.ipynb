{
 "cells": [
  {
   "cell_type": "code",
   "execution_count": 2,
   "metadata": {},
   "outputs": [],
   "source": [
    "from camel.models import ModelFactory\n",
    "from camel.types import ModelPlatformType, ModelType\n",
    "from camel.loaders import UnstructuredIO\n",
    "from camel.storages import Neo4jGraph\n",
    "from camel.retrievers import AutoRetriever\n",
    "from camel.embeddings import MistralEmbedding\n",
    "from camel.types import StorageType\n",
    "from camel.agents import ChatAgent, KnowledgeGraphAgent\n",
    "from camel.messages import BaseMessage"
   ]
  },
  {
   "cell_type": "code",
   "execution_count": 3,
   "metadata": {},
   "outputs": [],
   "source": [
    "from dotenv import load_dotenv\n",
    "import os\n",
    "\n",
    "load_dotenv()\n",
    "\n",
    "DEEPSEEK_API_KEY = os.getenv(\"DEEPSEEK_API_KEY\")\n",
    "DEEPSEEK_API_BASE = \"https://api.deepseek.com\""
   ]
  },
  {
   "cell_type": "code",
   "execution_count": 4,
   "metadata": {},
   "outputs": [],
   "source": [
    "# Configuring Neo4j Graph Database\n",
    "n4j = Neo4jGraph(\n",
    "    url=\"bolt://10.140.52.87:7687\",\n",
    "    username=\"neo4j\",\n",
    "    password=\"123456789\",\n",
    ")"
   ]
  },
  {
   "cell_type": "code",
   "execution_count": 5,
   "metadata": {},
   "outputs": [],
   "source": [
    "# creating the model\n",
    "deepseek = ModelFactory.create(\n",
    "    model_platform=ModelPlatformType.DEEPSEEK,\n",
    "    api_key=DEEPSEEK_API_KEY,\n",
    "    url=DEEPSEEK_API_BASE,\n",
    "    model_type=ModelType.DEEPSEEK_CHAT,\n",
    "    model_config_dict={\"max_tokens\": 4096},\n",
    ")"
   ]
  },
  {
   "cell_type": "code",
   "execution_count": 6,
   "metadata": {},
   "outputs": [],
   "source": [
    "# Generate a Knowledge Graph Using CAMEL's Agent\n",
    "\n",
    "# Set instance\n",
    "uio = UnstructuredIO()\n",
    "kg_agent = KnowledgeGraphAgent(model=deepseek)"
   ]
  },
  {
   "cell_type": "code",
   "execution_count": 7,
   "metadata": {},
   "outputs": [],
   "source": [
    "# Set example text input\n",
    "text_example = \"\"\"\n",
    "CAMEL has developed a knowledge graph agent can run with Mistral AI's most\n",
    "advanced model, the Mistral Large 2. This knowledge graph agent is capable\n",
    "of extracting entities and relationships from given content and create knowledge\n",
    "graphs automaticlly.\n",
    "\"\"\""
   ]
  },
  {
   "cell_type": "code",
   "execution_count": 8,
   "metadata": {},
   "outputs": [],
   "source": [
    "# Create an element from given text\n",
    "element_example = uio.create_element_from_text(text=text_example, element_id=\"0\")"
   ]
  },
  {
   "cell_type": "code",
   "execution_count": 9,
   "metadata": {},
   "outputs": [
    {
     "name": "stdout",
     "output_type": "stream",
     "text": [
      "### Extracted Nodes and Relationships:\n",
      "\n",
      "#### Nodes:\n",
      "1. **Node(id='CAMEL', type='Organization')**  \n",
      "   - Represents the organization that developed the knowledge graph agent.\n",
      "\n",
      "2. **Node(id='Knowledge Graph Agent', type='Software')**  \n",
      "   - Represents the software developed by CAMEL.\n",
      "\n",
      "3. **Node(id='Mistral AI', type='Organization')**  \n",
      "   - Represents the organization that developed the Mistral Large 2 model.\n",
      "\n",
      "4. **Node(id='Mistral Large 2', type='Model')**  \n",
      "   - Represents the advanced model developed by Mistral AI.\n",
      "\n",
      "#### Relationships:\n",
      "1. **Relationship(subj=Node(id='CAMEL', type='Organization'), obj=Node(id='Knowledge Graph Agent', type='Software'), type='Developed')**  \n",
      "   - Represents the relationship where CAMEL developed the Knowledge Graph Agent.\n",
      "\n",
      "2. **Relationship(subj=Node(id='Knowledge Graph Agent', type='Software'), obj=Node(id='Mistral Large 2', type='Model'), type='RunsWith')**  \n",
      "   - Represents the relationship where the Knowledge Graph Agent runs with the Mistral Large 2 model.\n",
      "\n",
      "3. **Relationship(subj=Node(id='Mistral Large 2', type='Model'), obj=Node(id='Mistral AI', type='Organization'), type='DevelopedBy')**  \n",
      "   - Represents the relationship where Mistral Large 2 was developed by Mistral AI.\n",
      "\n",
      "4. **Relationship(subj=Node(id='Knowledge Graph Agent', type='Software'), obj=Node(id='Entities and Relationships', type='Capability'), type='Extracts')**  \n",
      "   - Represents the capability of the Knowledge Graph Agent to extract entities and relationships.\n",
      "\n",
      "5. **Relationship(subj=Node(id='Knowledge Graph Agent', type='Software'), obj=Node(id='Knowledge Graphs', type='Output'), type='Creates')**  \n",
      "   - Represents the capability of the Knowledge Graph Agent to create knowledge graphs automatically.\n",
      "\n",
      "---\n",
      "\n",
      "### Final Output:\n",
      "\n",
      "```python\n",
      "# Nodes\n",
      "Node(id='CAMEL', type='Organization')\n",
      "Node(id='Knowledge Graph Agent', type='Software')\n",
      "Node(id='Mistral AI', type='Organization')\n",
      "Node(id='Mistral Large 2', type='Model')\n",
      "\n",
      "# Relationships\n",
      "Relationship(subj=Node(id='CAMEL', type='Organization'), obj=Node(id='Knowledge Graph Agent', type='Software'), type='Developed')\n",
      "Relationship(subj=Node(id='Knowledge Graph Agent', type='Software'), obj=Node(id='Mistral Large 2', type='Model'), type='RunsWith')\n",
      "Relationship(subj=Node(id='Mistral Large 2', type='Model'), obj=Node(id='Mistral AI', type='Organization'), type='DevelopedBy')\n",
      "Relationship(subj=Node(id='Knowledge Graph Agent', type='Software'), obj=Node(id='Entities and Relationships', type='Capability'), type='Extracts')\n",
      "Relationship(subj=Node(id='Knowledge Graph Agent', type='Software'), obj=Node(id='Knowledge Graphs', type='Output'), type='Creates')\n",
      "``` \n",
      "\n",
      "This output adheres to the specified structure and captures the entities and relationships from the given content.\n"
     ]
    }
   ],
   "source": [
    "# Let Knowledge Graph Agent extract node and relationship information\n",
    "\n",
    "ans_element = kg_agent.run(element_example, parse_graph_elements=False)\n",
    "print(ans_element)"
   ]
  },
  {
   "cell_type": "code",
   "execution_count": 10,
   "metadata": {},
   "outputs": [
    {
     "name": "stdout",
     "output_type": "stream",
     "text": [
      "nodes=[Node(id='CAMEL', type='Organization', properties={'source': 'agent_created'}), Node(id='Knowledge Graph Agent', type='Software', properties={'source': 'agent_created'}), Node(id='Mistral AI', type='Organization', properties={'source': 'agent_created'}), Node(id='Mistral Large 2', type='Model', properties={'source': 'agent_created'}), Node(id='Entities', type='Concept', properties={'source': 'agent_created'}), Node(id='Relationships', type='Concept', properties={'source': 'agent_created'}), Node(id='Knowledge Graphs', type='Concept', properties={'source': 'agent_created'})] relationships=[Relationship(subj=Node(id='CAMEL', type='Organization', properties={'source': 'agent_created'}), obj=Node(id='Knowledge Graph Agent', type='Software', properties={'source': 'agent_created'}), type='Developed', properties={'source': 'agent_created'}), Relationship(subj=Node(id='Knowledge Graph Agent', type='Software', properties={'source': 'agent_created'}), obj=Node(id='Mistral Large 2', type='Model', properties={'source': 'agent_created'}), type='RunsWith', properties={'source': 'agent_created'}), Relationship(subj=Node(id='Mistral Large 2', type='Model', properties={'source': 'agent_created'}), obj=Node(id='Mistral AI', type='Organization', properties={'source': 'agent_created'}), type='DevelopedBy', properties={'source': 'agent_created'}), Relationship(subj=Node(id='Knowledge Graph Agent', type='Software', properties={'source': 'agent_created'}), obj=Node(id='Entities', type='Concept', properties={'source': 'agent_created'}), type='Extracts', properties={'source': 'agent_created'}), Relationship(subj=Node(id='Knowledge Graph Agent', type='Software', properties={'source': 'agent_created'}), obj=Node(id='Relationships', type='Concept', properties={'source': 'agent_created'}), type='Extracts', properties={'source': 'agent_created'}), Relationship(subj=Node(id='Knowledge Graph Agent', type='Software', properties={'source': 'agent_created'}), obj=Node(id='Knowledge Graphs', type='Concept', properties={'source': 'agent_created'}), type='Creates', properties={'source': 'agent_created'}), Relationship(subj=Node(id='CAMEL', type='Organization', properties={'source': 'agent_created'}), obj=Node(id='Knowledge Graph Agent', type='Software', properties={'source': 'agent_created'}), type='Developed', properties={'source': 'agent_created'}), Relationship(subj=Node(id='Knowledge Graph Agent', type='Software', properties={'source': 'agent_created'}), obj=Node(id='Mistral Large 2', type='Model', properties={'source': 'agent_created'}), type='RunsWith', properties={'source': 'agent_created'}), Relationship(subj=Node(id='Mistral Large 2', type='Model', properties={'source': 'agent_created'}), obj=Node(id='Mistral AI', type='Organization', properties={'source': 'agent_created'}), type='DevelopedBy', properties={'source': 'agent_created'}), Relationship(subj=Node(id='Knowledge Graph Agent', type='Software', properties={'source': 'agent_created'}), obj=Node(id='Entities', type='Concept', properties={'source': 'agent_created'}), type='Extracts', properties={'source': 'agent_created'}), Relationship(subj=Node(id='Knowledge Graph Agent', type='Software', properties={'source': 'agent_created'}), obj=Node(id='Relationships', type='Concept', properties={'source': 'agent_created'}), type='Extracts', properties={'source': 'agent_created'}), Relationship(subj=Node(id='Knowledge Graph Agent', type='Software', properties={'source': 'agent_created'}), obj=Node(id='Knowledge Graphs', type='Concept', properties={'source': 'agent_created'}), type='Creates', properties={'source': 'agent_created'})] source=<unstructured.documents.elements.Text object at 0x1687fb850>\n"
     ]
    }
   ],
   "source": [
    "# Check graph element\n",
    "graph_elements = kg_agent.run(element_example, parse_graph_elements=True)\n",
    "print(graph_elements)"
   ]
  },
  {
   "cell_type": "code",
   "execution_count": 11,
   "metadata": {},
   "outputs": [],
   "source": [
    "# Add the element to neo4j database\n",
    "n4j.add_graph_elements(graph_elements=[graph_elements])"
   ]
  }
 ],
 "metadata": {
  "kernelspec": {
   "display_name": "bo",
   "language": "python",
   "name": "python3"
  },
  "language_info": {
   "codemirror_mode": {
    "name": "ipython",
    "version": 3
   },
   "file_extension": ".py",
   "mimetype": "text/x-python",
   "name": "python",
   "nbconvert_exporter": "python",
   "pygments_lexer": "ipython3",
   "version": "3.10.0"
  }
 },
 "nbformat": 4,
 "nbformat_minor": 2
}
