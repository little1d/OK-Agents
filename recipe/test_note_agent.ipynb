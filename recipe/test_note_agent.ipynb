{
 "cells": [
  {
   "cell_type": "code",
   "execution_count": 1,
   "metadata": {},
   "outputs": [],
   "source": [
    "import json\n",
    "from okagents.llms.deepseek import DeepSeekClient\n",
    "from okagents.agents import NotesAgent, MilvusAgent\n",
    "from okagents.agents.notes_agent import BaseNotesResponse\n",
    "from pydantic import Field\n",
    "from typing import List\n",
    "from okagents.agents import KGAgent\n",
    "from camel.models import ModelFactory\n",
    "from camel.types import ModelPlatformType, ModelType\n",
    "from okagents.config import Config"
   ]
  },
  {
   "cell_type": "code",
   "execution_count": 2,
   "metadata": {},
   "outputs": [
    {
     "data": {
      "text/plain": [
       "{'name': 'Suzuki Reaction Optimization',\n",
       " 'domain': 'Organic Chemistry - Cross Coupling Reactions',\n",
       " 'description': 'Optimization of Suzuki cross-coupling reaction to enhance reaction yield by exploring different electrophiles, nucleophiles, ligands, bases, and solvents.',\n",
       " 'constraint': 'Reagents must be compatible with each other and reaction conditions must ensure stability of intermediates.',\n",
       " 'parameters_and_bounds': [{'name': 'Electrophile_SMILES',\n",
       "   'description': 'SMILES representation of the electrophilic substrate',\n",
       "   'bounds': ['BrC1=CC=C(N=CC=C2)C2=C1',\n",
       "    'ClC1=CC=C(N=CC=C2)C2=C1',\n",
       "    'IC1=CC=C(N=CC=C2)C2=C1',\n",
       "    'O=S(OC1=CC=C(N=CC=C2)C2=C1)(C(F)(F)F)=O'],\n",
       "   'type': 'discrete'},\n",
       "  {'name': 'Nucleophile_SMILES',\n",
       "   'description': 'SMILES representation of the nucleophilic substrate',\n",
       "   'bounds': ['CC1=CC=C(N(C2CCCCO2)N=C3)C3=C1[B-](F)(F)F',\n",
       "    'CC1=CC=C(N(C2CCCCO2)N=C3)C3=C1B(O)O',\n",
       "    'CC1=CC=C(N(C2CCCCO2)N=C3)C3=C1B4OC(C)(C)C(C)(C)O4'],\n",
       "   'type': 'discrete'},\n",
       "  {'name': 'Ligand_SMILES',\n",
       "   'description': 'SMILES representation of the ligand used in the reaction',\n",
       "   'bounds': ['[c-]1(P(C2=CC=CC=C2)C3=CC=CC=C3)cccc1.[c-]4(P(C5=CC=CC=C5)C6=CC=CC=C6)cccc4.[Fe+2]',\n",
       "    'CC(C)(C)P(C(C)(C)C)C1=CC=C(N(C)C)C=C1',\n",
       "    'CC(C)(P(C(C)(C)C)[c-]1cccc1)C.CC(C)(P(C(C)(C)C)[c-]2cccc2)C.[Fe+2]',\n",
       "    'CC(C1=C(C2=CC=CC=C2P(C3CCCCC3)C4CCCCC4)C(C(C)C)=CC(C(C)C)=C1)C',\n",
       "    'CC(P(C(C)(C)C)C(C)(C)C)(C)C',\n",
       "    'CC1(C)C2=C(OC3=C1C=CC=C3P(C4=CC=CC=C4)C5=CC=CC=C5)C(P(C6=CC=CC=C6)C7=CC=CC=C7)=CC=C2',\n",
       "    'CC1=CC=CC=C1P(C2=CC=CC=C2C)C3=CC=CC=C3C',\n",
       "    'CCCCP(C12C[C@@H]3C[C@@H](C[C@H](C2)C3)C1)C45C[C@H]6C[C@@H](C5)C[C@@H](C4)C6',\n",
       "    'COC1=CC=CC(OC)=C1C2=C(P(C3CCCCC3)C4CCCCC4)C=CC=C2',\n",
       "    'P(C1=CC=CC=C1)(C2=CC=CC=C2)C3=CC=CC=C3',\n",
       "    'P(C1CCCCC1)(C2CCCCC2)C3CCCCC3'],\n",
       "   'type': 'discrete'},\n",
       "  {'name': 'Base_SMILES',\n",
       "   'description': 'SMILES representation of the base used in the reaction',\n",
       "   'bounds': ['[Cs+].[F-]',\n",
       "    '[K+].[OH-]',\n",
       "    '[Na+].[OH-]',\n",
       "    'CC([O-])C.[Li+]',\n",
       "    'CCN(CC)CC',\n",
       "    'O=P([O-])([O-])[O-].[K+].[K+].[K+]',\n",
       "    'OC([O-])=O.[Na+]'],\n",
       "   'type': 'discrete'},\n",
       "  {'name': 'Solvent_SMILES',\n",
       "   'description': 'SMILES representation of the solvent used in the reaction',\n",
       "   'bounds': ['C1COCC1', 'CO', 'N#CC', 'O=CN(C)C'],\n",
       "   'type': 'discrete'}],\n",
       " 'target': {'name': 'yield',\n",
       "  'description': 'Maximize the yield of the Suzuki cross-coupling reaction'}}"
      ]
     },
     "execution_count": 2,
     "metadata": {},
     "output_type": "execute_result"
    }
   ],
   "source": [
    "# ---------------------------------- load exp config ----------------------------------\n",
    "config_path = (\n",
    "    \"/Users/little1d/Desktop/Code/OK-Agents/okagents/config/suzuki_config.json\"\n",
    ")\n",
    "with open(config_path, \"r\") as f:\n",
    "    suzuki_config = json.load(f)\n",
    "suzuki_config"
   ]
  },
  {
   "cell_type": "code",
   "execution_count": 3,
   "metadata": {},
   "outputs": [],
   "source": [
    "class ExperimentInfoResponse(BaseNotesResponse):\n",
    "    \"\"\"实验信息响应模型（简化版）\"\"\"\n",
    "\n",
    "    reactants: List[str] = Field(\n",
    "        ..., description=\"反应物信息，格式：'名称:SMILES'\"\n",
    "    )\n",
    "    conditions: List[str] = Field(..., description=\"反应条件，格式：'类型:值'\")\n",
    "    target: str = Field(..., description=\"反应目标描述\")"
   ]
  },
  {
   "cell_type": "code",
   "execution_count": 4,
   "metadata": {},
   "outputs": [],
   "source": [
    "# ---------------------------------- init NotesAgent ----------------------------------\n",
    "\n",
    "config = Config()\n",
    "# creating the model\n",
    "deepseek = ModelFactory.create(\n",
    "    model_platform=ModelPlatformType.DEEPSEEK,\n",
    "    api_key=config.DEEPSEEK_API_KEY,\n",
    "    url=config.DEEPSEEK_API_BASE,\n",
    "    model_type=ModelType.DEEPSEEK_CHAT,\n",
    "    model_config_dict={\"max_tokens\": 4096},\n",
    ")\n",
    "\n",
    "kg_agent = KGAgent(deepseek)\n",
    "milvus_agent = MilvusAgent(collection_name=\"test\")\n",
    "\n",
    "notes_agent = NotesAgent(\n",
    "    model=deepseek, kg_agent=kg_agent, milvus_agent=milvus_agent\n",
    ")\n",
    "deepseek_client = DeepSeekClient()"
   ]
  },
  {
   "cell_type": "code",
   "execution_count": 5,
   "metadata": {},
   "outputs": [
    {
     "name": "stdout",
     "output_type": "stream",
     "text": [
      "=== 测试实验信息提取 ===\n",
      "2025-03-27 16:26:31,343 - camel.agents.chat_agent - ERROR - Failed in parsing the output into JSON: Expecting value: line 1 column 1 (char 0)\n",
      "response content: msgs=[BaseMessage(role_name='Assistant', role_type=<RoleType.ASSISTANT: 'assistant'>, meta_dict={}, content='```json\\n{\\n  \"notes\": [\\n    \"Optimization of Suzuki cross-coupling reaction to enhance reaction yield by exploring different electrophiles, nucleophiles, ligands, bases, and solvents.\",\\n    \"Reagents must be compatible with each other and reaction conditions must ensure stability of intermediates.\"\\n  ],\\n  \"reactants\": [\\n    \"Electrophile:BrC1=CC=C(N=CC=C2)C2=C1\",\\n    \"Electrophile:ClC1=CC=C(N=CC=C2)C2=C1\",\\n    \"Electrophile:IC1=CC=C(N=CC=C2)C2=C1\",\\n    \"Electrophile:O=S(OC1=CC=C(N=CC=C2)C2=C1)(C(F)(F)F)=O\",\\n    \"Nucleophile:CC1=CC=C(N(C2CCCCO2)N=C3)C3=C1[B-](F)(F)F\",\\n    \"Nucleophile:CC1=CC=C(N(C2CCCCO2)N=C3)C3=C1B(O)O\",\\n    \"Nucleophile:CC1=CC=C(N(C2CCCCO2)N=C3)C3=C1B4OC(C)(C)C(C)(C)O4\"\\n  ],\\n  \"conditions\": [\\n    \"Ligand:[c-]1(P(C2=CC=CC=C2)C3=CC=CC=C3)cccc1.[c-]4(P(C5=CC=CC=C5)C6=CC=CC=C6)cccc4.[Fe+2]\",\\n    \"Ligand:CC(C)(C)P(C(C)(C)C)C1=CC=C(N(C)C)C=C1\",\\n    \"Ligand:CC(C)(P(C(C)(C)C)[c-]1cccc1)C.CC(C)(P(C(C)(C)C)[c-]2cccc2)C.[Fe+2]\",\\n    \"Ligand:CC(C1=C(C2=CC=CC=C2P(C3CCCCC3)C4CCCCC4)C(C(C)I)=CC(C(C)I)=C1)C\",\\n    \"Ligand:CC(P(C(C)(C)C)C(C)(C)C)(C)C\",\\n    \"Ligand:CC1(C)C2=C(OC3=C1C=CC=C3P(C4=CC=CC=C4)C5=CC=CC=C5)C(P(C6=CC=CC=C6)C7=CC=CC=C7)=CC=C2\",\\n    \"Ligand:CC1=CC=CC=C1P(C2=CC=CC=C2C)C3=CC=CC=C3C\",\\n    \"Ligand:CCCCP(C12C[C@@H]3C[C@@H](C[C@H](C2)C3)C1)C45C[C@H]6C[C@@H](C5)C[C@@H](C4)C6\",\\n    \"Ligand:COC1=CC=CC(OC)=C1C2=C(P(C3CCCCC3)C4CCCCC4)C=CC=C2\",\\n    \"Ligand:P(C1=CC=CC=C1)(C2=CC=CC=C2)C3=CC=CC=C3\",\\n    \"Ligand:P(C1CCCCC1)(C2CCCCC2)C3CCCCC3\",\\n    \"Base:[Cs+].[F-]\",\\n    \"Base:[K+].[OH-]\",\\n    \"Base:[Na+].[OH-]\",\\n    \"Base:CC([O-])C.[Li+]\",\\n    \"Base:CCN(CC)CC\",\\n    \"Base:O=P([O-])([O-])[O-].[K+].[K+].[K+]\",\\n    \"Base:OC([O-])=O.[Na+]\",\\n    \"Solvent:C1COCC1\",\\n    \"Solvent:CO\",\\n    \"Solvent:N#CC\",\\n    \"Solvent:O=CN(C)C\"\\n  ],\\n  \"target\": \"Maximize the yield of the Suzuki cross-coupling reaction\"\\n}\\n```', video_bytes=None, image_list=None, image_detail='auto', video_detail='low', parsed=None)] terminated=False info={'id': '5619a296-1e2c-4ee7-a38a-f8b10abf782d', 'usage': {'completion_tokens': 874, 'prompt_tokens': 1359, 'total_tokens': 2233, 'completion_tokens_details': None, 'prompt_tokens_details': {'audio_tokens': None, 'cached_tokens': 1344}, 'prompt_cache_hit_tokens': 1344, 'prompt_cache_miss_tokens': 15}, 'termination_reasons': ['stop'], 'num_tokens': 1184, 'tool_calls': [], 'external_tool_request': None}\n",
      "\n",
      "response type: <class 'camel.responses.agent_responses.ChatAgentResponse'>\n",
      "Parsed content as plain text: Optimization of Suzuki cross-coupling reaction to enhance reaction yield by exploring different electrophiles, nucleophiles, ligands, bases, and solvents.\n",
      "Reagents must be compatible with each other and reaction conditions must ensure stability of intermediates.\n",
      "Electrophile:BrC1=CC=C(N=CC=C2)C2=C1\n",
      "Electrophile:ClC1=CC=C(N=CC=C2)C2=C1\n",
      "Electrophile:IC1=CC=C(N=CC=C2)C2=C1\n",
      "Electrophile:O=S(OC1=CC=C(N=CC=C2)C2=C1)(C(F)(F)F)=O\n",
      "Nucleophile:CC1=CC=C(N(C2CCCCO2)N=C3)C3=C1[B-](F)(F)F\n",
      "Nucleophile:CC1=CC=C(N(C2CCCCO2)N=C3)C3=C1B(O)O\n",
      "Nucleophile:CC1=CC=C(N(C2CCCCO2)N=C3)C3=C1B4OC(C)(C)C(C)(C)O4\n",
      "Ligand:[c-]1(P(C2=CC=CC=C2)C3=CC=CC=C3)cccc1.[c-]4(P(C5=CC=CC=C5)C6=CC=CC=C6)cccc4.[Fe+2]\n",
      "Ligand:CC(C)(C)P(C(C)(C)C)C1=CC=C(N(C)C)C=C1\n",
      "Ligand:CC(C)(P(C(C)(C)C)[c-]1cccc1)C.CC(C)(P(C(C)(C)C)[c-]2cccc2)C.[Fe+2]\n",
      "Ligand:CC(C1=C(C2=CC=CC=C2P(C3CCCCC3)C4CCCCC4)C(C(C)I)=CC(C(C)I)=C1)C\n",
      "Ligand:CC(P(C(C)(C)C)C(C)(C)C)(C)C\n",
      "Ligand:CC1(C)C2=C(OC3=C1C=CC=C3P(C4=CC=CC=C4)C5=CC=CC=C5)C(P(C6=CC=CC=C6)C7=CC=CC=C7)=CC=C2\n",
      "Ligand:CC1=CC=CC=C1P(C2=CC=CC=C2C)C3=CC=CC=C3C\n",
      "Ligand:CCCCP(C12C[C@@H]3C[C@@H](C[C@H](C2)C3)C1)C45C[C@H]6C[C@@H](C5)C[C@@H](C4)C6\n",
      "Ligand:COC1=CC=CC(OC)=C1C2=C(P(C3CCCCC3)C4CCCCC4)C=CC=C2\n",
      "Ligand:P(C1=CC=CC=C1)(C2=CC=CC=C2)C3=CC=CC=C3\n",
      "Ligand:P(C1CCCCC1)(C2CCCCC2)C3CCCCC3\n",
      "Base:[Cs+].[F-]\n",
      "Base:[K+].[OH-]\n",
      "Base:[Na+].[OH-]\n",
      "Base:CC([O-])C.[Li+]\n",
      "Base:CCN(CC)CC\n",
      "Base:O=P([O-])([O-])[O-].[K+].[K+].[K+]\n",
      "Base:OC([O-])=O.[Na+]\n",
      "Solvent:C1COCC1\n",
      "Solvent:CO\n",
      "Solvent:N#CC\n",
      "Solvent:O=CN(C)C\n",
      "Maximize the yield of the Suzuki cross-coupling reaction\n",
      "Save successfully, content: nodes=[Node(id='Suzuki cross-coupling reaction', type='Reaction', properties={'source': 'agent_created'}), Node(id='BrC1=CC=C(N=CC=C2)C2=C1', type='Electrophile', properties={'source': 'agent_created'}), Node(id='ClC1=CC=C(N=CC=C2)C2=C1', type='Electrophile', properties={'source': 'agent_created'}), Node(id='IC1=CC=C(N=CC=C2)C2=C1', type='Electrophile', properties={'source': 'agent_created'}), Node(id='O=S(OC1=CC=C(N=CC=C2)C2=C1)(C(F)(F)F)=O', type='Electrophile', properties={'source': 'agent_created'}), Node(id='CC1=CC=C(N(C2CCCCO2)N=C3)C3=C1[B-](F)(F)F', type='Nucleophile', properties={'source': 'agent_created'}), Node(id='CC1=CC=C(N(C2CCCCO2)N=C3)C3=C1B(O)O', type='Nucleophile', properties={'source': 'agent_created'}), Node(id='CC1=CC=C(N(C2CCCCO2)N=C3)C3=C1B4OC(C)(C)C(C)(C)O4', type='Nucleophile', properties={'source': 'agent_created'}), Node(id='[c-]1(P(C2=CC=CC=C2)C3=CC=CC=C3)cccc1.[c-]4(P(C5=CC=CC=C5)C6=CC=CC=C6)cccc4.[Fe+2]', type='Ligand', properties={'source': 'agent_created'}), Node(id='CC(C)(C)P(C(C)(C)C)C1=CC=C(N(C)C)C=C1', type='Ligand', properties={'source': 'agent_created'}), Node(id='CC(C)(P(C(C)(C)C)[c-]1cccc1)C.CC(C)(P(C(C)(C)C)[c-]2cccc2)C.[Fe+2]', type='Ligand', properties={'source': 'agent_created'}), Node(id='CC(C1=C(C2=CC=CC=C2P(C3CCCCC3)C4CCCCC4)C(C(C)I)=CC(C(C)I)=C1)C', type='Ligand', properties={'source': 'agent_created'}), Node(id='CC(P(C(C)(C)C)C(C)(C)C)(C)C', type='Ligand', properties={'source': 'agent_created'}), Node(id='CC1(C)C2=C(OC3=C1C=CC=C3P(C4=CC=CC=C4)C5=CC=CC=C5)C(P(C6=CC=CC=C6)C7=CC=CC=C7)=CC=C2', type='Ligand', properties={'source': 'agent_created'}), Node(id='CC1=CC=CC=C1P(C2=CC=CC=C2C)C3=CC=CC=C3C', type='Ligand', properties={'source': 'agent_created'}), Node(id='CCCCP(C12C[C@@H]3C[C@@H](C[C@H](C2)C3)C1)C45C[C@H]6C[C@@H](C5)C[C@@H](C4)C6', type='Ligand', properties={'source': 'agent_created'}), Node(id='COC1=CC=CC(OC)=C1C2=C(P(C3CCCCC3)C4CCCCC4)C=CC=C2', type='Ligand', properties={'source': 'agent_created'}), Node(id='P(C1=CC=CC=C1)(C2=CC=CC=C2)C3=CC=CC=C3', type='Ligand', properties={'source': 'agent_created'}), Node(id='P(C1CCCCC1)(C2CCCCC2)C3CCCCC3', type='Ligand', properties={'source': 'agent_created'}), Node(id='[Cs+].[F-]', type='Base', properties={'source': 'agent_created'}), Node(id='[K+].[OH-]', type='Base', properties={'source': 'agent_created'}), Node(id='[Na+].[OH-]', type='Base', properties={'source': 'agent_created'}), Node(id='CC([O-])C.[Li+]', type='Base', properties={'source': 'agent_created'}), Node(id='CCN(CC)CC', type='Base', properties={'source': 'agent_created'}), Node(id='O=P([O-])([O-])[O-].[K+].[K+].[K+]', type='Base', properties={'source': 'agent_created'}), Node(id='OC([O-])=O.[Na+]', type='Base', properties={'source': 'agent_created'}), Node(id='C1COCC1', type='Solvent', properties={'source': 'agent_created'}), Node(id='CO', type='Solvent', properties={'source': 'agent_created'}), Node(id='N#CC', type='Solvent', properties={'source': 'agent_created'}), Node(id='O=CN(C)C', type='Solvent', properties={'source': 'agent_created'}), Node(id='Maximize yield', type='Objective', properties={'source': 'agent_created'})] relationships=[Relationship(subj=Node(id='Suzuki cross-coupling reaction', type='Reaction', properties={'source': 'agent_created'}), obj=Node(id='BrC1=CC=C(N=CC=C2)C2=C1', type='Electrophile', properties={'source': 'agent_created'}), type='UsesElectrophile', properties={'source': 'agent_created'}), Relationship(subj=Node(id='Suzuki cross-coupling reaction', type='Reaction', properties={'source': 'agent_created'}), obj=Node(id='ClC1=CC=C(N=CC=C2)C2=C1', type='Electrophile', properties={'source': 'agent_created'}), type='UsesElectrophile', properties={'source': 'agent_created'}), Relationship(subj=Node(id='Suzuki cross-coupling reaction', type='Reaction', properties={'source': 'agent_created'}), obj=Node(id='IC1=CC=C(N=CC=C2)C2=C1', type='Electrophile', properties={'source': 'agent_created'}), type='UsesElectrophile', properties={'source': 'agent_created'}), Relationship(subj=Node(id='Suzuki cross-coupling reaction', type='Reaction', properties={'source': 'agent_created'}), obj=Node(id='O=S(OC1=CC=C(N=CC=C2)C2=C1)(C(F)(F)F)=O', type='Electrophile', properties={'source': 'agent_created'}), type='UsesElectrophile', properties={'source': 'agent_created'}), Relationship(subj=Node(id='Suzuki cross-coupling reaction', type='Reaction', properties={'source': 'agent_created'}), obj=Node(id='CC1=CC=C(N(C2CCCCO2)N=C3)C3=C1[B-](F)(F)F', type='Nucleophile', properties={'source': 'agent_created'}), type='UsesNucleophile', properties={'source': 'agent_created'}), Relationship(subj=Node(id='Suzuki cross-coupling reaction', type='Reaction', properties={'source': 'agent_created'}), obj=Node(id='CC1=CC=C(N(C2CCCCO2)N=C3)C3=C1B(O)O', type='Nucleophile', properties={'source': 'agent_created'}), type='UsesNucleophile', properties={'source': 'agent_created'}), Relationship(subj=Node(id='Suzuki cross-coupling reaction', type='Reaction', properties={'source': 'agent_created'}), obj=Node(id='CC1=CC=C(N(C2CCCCO2)N=C3)C3=C1B4OC(C)(C)C(C)(C)O4', type='Nucleophile', properties={'source': 'agent_created'}), type='UsesNucleophile', properties={'source': 'agent_created'}), Relationship(subj=Node(id='Suzuki cross-coupling reaction', type='Reaction', properties={'source': 'agent_created'}), obj=Node(id='[c-]1(P(C2=CC=CC=C2)C3=CC=CC=C3)cccc1.[c-]4(P(C5=CC=CC=C5)C6=CC=CC=C6)cccc4.[Fe+2]', type='Ligand', properties={'source': 'agent_created'}), type='UsesLigand', properties={'source': 'agent_created'}), Relationship(subj=Node(id='Suzuki cross-coupling reaction', type='Reaction', properties={'source': 'agent_created'}), obj=Node(id='CC(C)(C)P(C(C)(C)C)C1=CC=C(N(C)C)C=C1', type='Ligand', properties={'source': 'agent_created'}), type='UsesLigand', properties={'source': 'agent_created'}), Relationship(subj=Node(id='Suzuki cross-coupling reaction', type='Reaction', properties={'source': 'agent_created'}), obj=Node(id='[Cs+].[F-]', type='Base', properties={'source': 'agent_created'}), type='UsesBase', properties={'source': 'agent_created'}), Relationship(subj=Node(id='Suzuki cross-coupling reaction', type='Reaction', properties={'source': 'agent_created'}), obj=Node(id='[K+].[OH-]', type='Base', properties={'source': 'agent_created'}), type='UsesBase', properties={'source': 'agent_created'}), Relationship(subj=Node(id='Suzuki cross-coupling reaction', type='Reaction', properties={'source': 'agent_created'}), obj=Node(id='C1COCC1', type='Solvent', properties={'source': 'agent_created'}), type='UsesSolvent', properties={'source': 'agent_created'}), Relationship(subj=Node(id='Suzuki cross-coupling reaction', type='Reaction', properties={'source': 'agent_created'}), obj=Node(id='CO', type='Solvent', properties={'source': 'agent_created'}), type='UsesSolvent', properties={'source': 'agent_created'}), Relationship(subj=Node(id='Suzuki cross-coupling reaction', type='Reaction', properties={'source': 'agent_created'}), obj=Node(id='Maximize yield', type='Objective', properties={'source': 'agent_created'}), type='HasObjective', properties={'source': 'agent_created'})] source=<unstructured.documents.elements.Text object at 0x14f62ea70>\n"
     ]
    }
   ],
   "source": [
    "# ---------------------------------- 测试实验信息搜索与提取功能 ----------------------------------\n",
    "\n",
    "experiment_prompt = \"\"\"\n",
    "请从以下实验配置中提取关键信息：\n",
    "1. 反应物：列出所有反应物及其SMILES式子\n",
    "2. 反应条件：包括配体、碱、溶剂的选择，以及这些反应物之间的联系\n",
    "\n",
    "实验配置：\n",
    "{input}\n",
    "\n",
    "请按照指定格式返回，确保所有SMILES字符串准确无误。\n",
    "\"\"\"\n",
    "\n",
    "# 将实验配置转为字符串\n",
    "experiment_str = json.dumps(suzuki_config, indent=2, ensure_ascii=False)\n",
    "\n",
    "# 执行提取 (注释掉存储步骤)\n",
    "print(\"=== 测试实验信息提取 ===\")\n",
    "experiment_info = notes_agent.extract_experiment_info(\n",
    "    experiment_data=experiment_str,\n",
    "    save_schema=ExperimentInfoResponse,\n",
    "    prompt=experiment_prompt,\n",
    ")"
   ]
  },
  {
   "cell_type": "code",
   "execution_count": 6,
   "metadata": {},
   "outputs": [
    {
     "name": "stdout",
     "output_type": "stream",
     "text": [
      "\n",
      "=== 测试DeepSeek对话生成 ===\n",
      "生成内容: 基于提供的Suzuki反应配置，以下是对优化方向的系统性分析：\n",
      "\n",
      "---\n",
      "\n",
      "### **1. 电泳质（Electrophile）的优化**\n",
      "- **活性差异**：离去基团活性顺序为 **I > OTf > Br > Cl**。  \n",
      "  - 若当前产率低，优先尝试碘代物（`IC1=...`）或三氟甲磺酸酯（`O=S(OC1=...`），以提高氧化加成速率。  \n",
      "  - 氯代物（`ClC1=...`）...\n",
      "\n",
      "推理内容: 嗯，用户给了一个关于Suzuki反应优化的配置，需要分析可能的优化方向。首先，我得仔细看看这个配置里都有哪些参数和选项。用户提到要考虑不同反应物组合的活性差异、配体选择的影响，以及碱和溶剂的匹配性。那我得从这三个方面来逐一分析。\n",
      "\n",
      "首先看电泳质的选项，有四个不同的SMILES结构，分别是含有Br、Cl、I和三氟甲磺酸酯的芳香环。一般来说，Suzuki反应中离去基团的活性顺序是I > OTf (三氟...\n"
     ]
    }
   ],
   "source": [
    "# ---------------------------------- 测试 DeepSeek 的对话生成 reasoning data ----------------------------------\n",
    "print(\"\\n=== 测试DeepSeek对话生成 ===\")\n",
    "research_prompt = f\"\"\"\n",
    "基于以下Suzuki反应配置，分析可能的优化方向：\n",
    "{experiment_str}\n",
    "\n",
    "请考虑：\n",
    "1. 不同反应物组合的活性差异\n",
    "2. 配体选择对反应的影响\n",
    "3. 碱和溶剂的匹配性\n",
    "\"\"\"\n",
    "\n",
    "content, reasoning_data = deepseek_client.generate(research_prompt)\n",
    "print(\"生成内容:\", content[:200] + \"...\")\n",
    "print(\"\\n推理内容:\", reasoning_data[:200] + \"...\")"
   ]
  },
  {
   "cell_type": "code",
   "execution_count": 10,
   "metadata": {},
   "outputs": [
    {
     "data": {
      "text/plain": [
       "'嗯，用户给了一个关于Suzuki反应优化的配置，需要分析可能的优化方向。首先，我得仔细看看这个配置里都有哪些参数和选项。用户提到要考虑不同反应物组合的活性差异、配体选择的影响，以及碱和溶剂的匹配性。那我得从这三个方面来逐一分析。\\n\\n首先看电泳质的选项，有四个不同的SMILES结构，分别是含有Br、Cl、I和三氟甲磺酸酯的芳香环。一般来说，Suzuki反应中离去基团的活性顺序是I > OTf (三氟甲磺酸酯) > Br > Cl。所以碘代物反应活性最高，可能更容易进行反应，但可能稳定性差一些。而三氟甲磺酸酯的活性也很高，但可能对水分敏感。氯代物活性最低，可能需要更苛刻的条件或者更强的催化剂。所以优化的时候可能需要测试不同电泳质对产率的影响，特别是如果当前产率不高的话，可能需要换更高活性的离去基团，比如换成碘或三氟甲磺酸酯。\\n\\n然后是亲核试剂，三个选项，区别在于硼酸部分的结构。第一个是B-（F）3，可能对应的是硼酸的三氟硼酸盐形式，这种形式通常更稳定，溶解度可能更好，尤其是当游离硼酸不稳定的时候。第二个是B(O)O，应该是普通的硼酸，可能需要碱性条件才能活化。第三个是硼酸酯，比如频哪醇硼酸酯，这类在反应中可能需要更强的碱或者更长的反应时间才能水解成活性形式。所以亲核试剂的稳定性、溶解度和活化条件会影响反应效率。如果反应体系中碱不够强或者溶剂不合适，可能硼酸酯的转化率较低，这时候可能需要调整碱或溶剂来促进其水解。\\n\\n接下来是配体，这部分选项很多，大概有十几种不同的配体结构。常见的Suzuki反应配体包括膦配体，比如三苯基膦，或者更高效的如XPhos、SPhos等，还有可能是一些大位阻的配体或者含氮的配体。比如第一个配体看起来像铁配合物，可能不是常用的钯催化剂配体，或者是不是用户写错了？例如，Fe可能应该是Pd？或者可能用户用了铁催化的Suzuki反应？不过一般Suzuki是Pd催化的。所以可能需要确认一下。如果是Fe的话，可能反应条件不同。或者可能配体结构中的金属是Pd？假设这里可能有笔误，或者用户确实在使用Fe催化剂，那可能需要特别考虑。例如，有些配体可能更适合钯催化剂，比如Buchwald-Hartwig类型的配体，如XPhos、SPhos等。配体的选择对催化活性影响很大，比如大位阻的富电子配体可以促进氧化加成，或者稳定活性中间体。比如，当电泳质是活性较低的氯代物时，可能需要更强的配体来促进反应。此外，配体的溶解度和稳定性也需要考虑，比如有些配体在特定溶剂中可能溶解不好，导致催化剂失活。\\n\\n碱的选择也很重要，不同的碱对反应的影响可能很大。例如，CsF可能作为碱，同时帮助活化硼酸，特别是当使用三氟硼酸盐时。而KOH或NaOH这类强碱可能适合在质子性溶剂中使用，比如水或醇，但可能在非质子溶剂中效果不佳。像磷酸钾这样的弱碱可能需要更高的温度。另外，像碳酸盐可能需要溶剂有一定的极性来溶解，否则反应可能不均匀。比如，如果溶剂是THF（C1COCC1）或者DMF（O=CN(C)C），那么像Cs2CO3可能溶解性较好，而如果溶剂是甲苯的话可能溶解性差。不过这里溶剂选项中只有THF、甲醇、乙腈和DMF。所以需要看碱和溶剂的搭配。例如，如果使用甲醇作为溶剂，强碱如KOH可能可行，但如果是DMF，可能更适合用磷酸钾或碳酸盐。\\n\\n溶剂方面，选项包括THF、甲醇、乙腈和DMF。这些溶剂的极性不同，沸点也不同，会影响反应温度和试剂的溶解度。比如，DMF是高沸点极性非质子溶剂，适合高温反应，可能促进反应进行。而THF可能在中低温下使用，甲醇作为质子溶剂可能与某些碱搭配，但要注意亲核试剂在质子溶剂中的稳定性，比如硼酸可能在酸性或质子溶剂中容易分解，所以可能需要非质子溶剂。例如，如果亲核试剂是硼酸酯，可能需要极性非质子溶剂来促进其水解成活性硼酸形式。\\n\\n现在结合这些参数，可能的优化方向：\\n\\n1. 电泳质的选择：尝试使用更高活性的离去基团，如碘代物或三氟甲磺酸酯，尤其是当当前产率低时。但需要考虑它们的稳定性和成本。例如，碘可能更容易发生副反应，或者价格更高，所以需要权衡。\\n\\n2. 亲核试剂的选择：如果当前使用的是普通硼酸（第二个选项），可能在反应中溶解度不好或者容易自聚，导致产率低。换成三氟硼酸盐（第一个选项）可能更稳定，或者换成硼酸酯（第三个选项）可能需要更强的碱或更长反应时间来水解，可能需要调整条件。\\n\\n3. 配体的选择：配体与电泳质和催化金属的匹配是关键。比如，如果电泳质是氯代物，可能需要强配位、富电子的配体，如SPhos或XPhos类型的配体，以促进氧化加成。查看给定的配体列表，是否有类似的结构。例如，配体列表中是否有类似Buchwald配体的结构？比如，\"CC(C)(C)P(C(C)(C)C)C1=CC=C(N(C)C)C=C1\" 可能是一个大位阻的烷基膦配体，适合促进困难的反应。或者铁配合物的配体可能不适用于钯催化，需要确认催化剂金属是否正确。如果用户使用的是钯催化剂，可能需要选择适合的膦配体或NHC配体。例如，如果当前配体效果不佳，可以尝试不同配体，比如更富电子的或大位阻的。\\n\\n4. 碱和溶剂的组合：例如，使用DMF作为溶剂时，可能需要搭配较强的碱，如Cs2CO3或磷酸钾，而使用THF可能需要更易溶解的碱，如KOH（不过KOH在THF中可能溶解性差）。或者当使用三氟硼酸盐作为亲核试剂时，可能需要CsF作为碱，因为F-可以促进硼酸部分的活化。例如，如果当前碱是KOH，但亲核试剂是三氟硼酸钾，可能换成CsF会更有效。或者如果亲核试剂是硼酸酯，可能需要更强的碱来促进水解。\\n\\n可能的组合优化：\\n\\n- 高活性电泳质（I或OTf） + 稳定硼酸形式（如三氟硼酸盐） + 强配体（如大位阻膦配体） + CsF作为碱 + DMF作为溶剂，可能提高产率。\\n\\n或者，如果电泳质是Cl，可能需要更高效的配体和更强的碱，同时高温条件，在DMF中进行。\\n\\n此外，不同配体可能适合不同的溶剂环境。例如，某些膦配体在极性溶剂中可能更稳定，而其他配体可能在非极性溶剂中表现更好。\\n\\n可能的实验设计：\\n\\n可以系统筛选不同的电泳质、亲核试剂、配体、碱和溶剂的组合，但需要按照合理的设计，比如先固定其他因素，改变其中一个参数，找到最优组合。例如，先确定电泳质为碘代物，然后测试不同配体和碱的组合，再调整溶剂。\\n\\n另外，碱和溶剂的匹配性很重要。例如，如果使用甲醇作为溶剂，可能不适合用强碱如KOH，因为甲醇作为质子溶剂可能与强碱反应，或者导致硼酸分解。而DMF作为非质子极性溶剂，可以更好地溶解无机碱，如磷酸钾或碳酸盐。\\n\\n还有，某些碱可能与溶剂发生副反应。例如，在高温下，DMF和强碱可能分解产生二甲胺，影响反应。所以需要确保碱和溶剂的兼容性。\\n\\n总结可能的优化方向：\\n\\n1. 更换更高活性的电泳质（如I或OTf）。\\n\\n2. 选择更稳定的硼酸形式（如三氟硼酸盐）或确保硼酸酯充分活化。\\n\\n3. 选用适合电泳质活性的配体，如对于低活性电泳质（Cl）使用强配位配体。\\n\\n4. 调整碱以匹配亲核试剂和溶剂，如使用CsF配合三氟硼酸盐，或在硼酸酯情况下使用强碱促进水解。\\n\\n5. 选择高沸点溶剂（如DMF）以允许较高反应温度，或调整溶剂极性以改善溶解度和反应速率。'"
      ]
     },
     "execution_count": 10,
     "metadata": {},
     "output_type": "execute_result"
    }
   ],
   "source": [
    "reasoning_data"
   ]
  },
  {
   "cell_type": "code",
   "execution_count": 13,
   "metadata": {},
   "outputs": [
    {
     "name": "stdout",
     "output_type": "stream",
     "text": [
      "\n",
      "=== 测试从推理数据提取Notes ===\n",
      "2025-03-27 16:41:56,186 - camel.agents.chat_agent - ERROR - Failed in parsing the output into JSON: Expecting value: line 1 column 1 (char 0)\n",
      "Parsed content as plain text: Key scientific findings: The reactivity order of electrophiles in Suzuki coupling is I > OTf > Br > Cl. Boronic acid derivatives vary in stability and activation requirements (trifluoroborates > boronic acids > boronic esters). Ligand choice significantly impacts catalytic activity, with bulky, electron-rich ligands favoring challenging substrates.\n",
      "Optimization recommendations: 1) Use higher reactivity electrophiles (I or OTf) if yield is low. 2) Consider trifluoroborate nucleophiles for better stability. 3) Match ligand to substrate reactivity (e.g., bulky phosphines for chloroarenes). 4) Pair CsF with trifluoroborates or stronger bases with boronic esters. 5) Use polar aprotic solvents (DMF) for higher temperature reactions.\n",
      "Save successfully, content: nodes=[Node(id='Suzuki coupling', type='Chemical Reaction', properties={'source': 'agent_created'}), Node(id='Electrophiles', type='Chemical Entity', properties={'source': 'agent_created'}), Node(id='Iodide (I)', type='Chemical Entity', properties={'source': 'agent_created'}), Node(id='Triflate (OTf)', type='Chemical Entity', properties={'source': 'agent_created'}), Node(id='Bromide (Br)', type='Chemical Entity', properties={'source': 'agent_created'}), Node(id='Chloride (Cl)', type='Chemical Entity', properties={'source': 'agent_created'}), Node(id='Boronic acid derivatives', type='Chemical Class', properties={'source': 'agent_created'}), Node(id='Trifluoroborates', type='Chemical Entity', properties={'source': 'agent_created'}), Node(id='Boronic acids', type='Chemical Entity', properties={'source': 'agent_created'}), Node(id='Boronic esters', type='Chemical Entity', properties={'source': 'agent_created'}), Node(id='Ligands', type='Chemical Entity', properties={'source': 'agent_created'}), Node(id='Bulky phosphines', type='Chemical Entity', properties={'source': 'agent_created'}), Node(id='Electron-rich ligands', type='Chemical Entity', properties={'source': 'agent_created'}), Node(id='Chloroarenes', type='Chemical Entity', properties={'source': 'agent_created'}), Node(id='CsF', type='Chemical Entity', properties={'source': 'agent_created'}), Node(id='Strong bases', type='Chemical Class', properties={'source': 'agent_created'}), Node(id='DMF', type='Chemical Entity', properties={'source': 'agent_created'}), Node(id='Polar aprotic solvents', type='Chemical Class', properties={'source': 'agent_created'})] relationships=[Relationship(subj=Node(id='Iodide (I)', type='Chemical Entity', properties={'source': 'agent_created'}), obj=Node(id='Triflate (OTf)', type='Chemical Entity', properties={'source': 'agent_created'}), type='MoreReactiveThan', properties={'source': 'agent_created'}), Relationship(subj=Node(id='Triflate (OTf)', type='Chemical Entity', properties={'source': 'agent_created'}), obj=Node(id='Bromide (Br)', type='Chemical Entity', properties={'source': 'agent_created'}), type='MoreReactiveThan', properties={'source': 'agent_created'}), Relationship(subj=Node(id='Bromide (Br)', type='Chemical Entity', properties={'source': 'agent_created'}), obj=Node(id='Chloride (Cl)', type='Chemical Entity', properties={'source': 'agent_created'}), type='MoreReactiveThan', properties={'source': 'agent_created'}), Relationship(subj=Node(id='Trifluoroborates', type='Chemical Entity', properties={'source': 'agent_created'}), obj=Node(id='Boronic acids', type='Chemical Entity', properties={'source': 'agent_created'}), type='MoreStableThan', properties={'source': 'agent_created'}), Relationship(subj=Node(id='Boronic acids', type='Chemical Entity', properties={'source': 'agent_created'}), obj=Node(id='Boronic esters', type='Chemical Entity', properties={'source': 'agent_created'}), type='MoreStableThan', properties={'source': 'agent_created'}), Relationship(subj=Node(id='Bulky phosphines', type='Chemical Entity', properties={'source': 'agent_created'}), obj=Node(id='Chloroarenes', type='Chemical Entity', properties={'source': 'agent_created'}), type='Catalyzes', properties={'source': 'agent_created'}), Relationship(subj=Node(id='Electron-rich ligands', type='Chemical Entity', properties={'source': 'agent_created'}), obj=Node(id='Suzuki coupling', type='Chemical Reaction', properties={'source': 'agent_created'}), type='ImprovesCatalyticActivity', properties={'source': 'agent_created'}), Relationship(subj=Node(id='Iodide (I)', type='Chemical Entity', properties={'source': 'agent_created'}), obj=Node(id='Suzuki coupling', type='Chemical Reaction', properties={'source': 'agent_created'}), type='RecommendedForLowYield', properties={'source': 'agent_created'}), Relationship(subj=Node(id='Triflate (OTf)', type='Chemical Entity', properties={'source': 'agent_created'}), obj=Node(id='Suzuki coupling', type='Chemical Reaction', properties={'source': 'agent_created'}), type='RecommendedForLowYield', properties={'source': 'agent_created'}), Relationship(subj=Node(id='Trifluoroborates', type='Chemical Entity', properties={'source': 'agent_created'}), obj=Node(id='Suzuki coupling', type='Chemical Reaction', properties={'source': 'agent_created'}), type='RecommendedForStability', properties={'source': 'agent_created'}), Relationship(subj=Node(id='CsF', type='Chemical Entity', properties={'source': 'agent_created'}), obj=Node(id='Trifluoroborates', type='Chemical Entity', properties={'source': 'agent_created'}), type='RecommendedBaseFor', properties={'source': 'agent_created'}), Relationship(subj=Node(id='Strong bases', type='Chemical Class', properties={'source': 'agent_created'}), obj=Node(id='Boronic esters', type='Chemical Entity', properties={'source': 'agent_created'}), type='RecommendedBaseFor', properties={'source': 'agent_created'}), Relationship(subj=Node(id='DMF', type='Chemical Entity', properties={'source': 'agent_created'}), obj=Node(id='Suzuki coupling', type='Chemical Reaction', properties={'source': 'agent_created'}), type='RecommendedSolventForHighTemp', properties={'source': 'agent_created'})] source=<unstructured.documents.elements.Text object at 0x15b000610>\n"
     ]
    },
    {
     "data": {
      "text/plain": [
       "ChatAgentResponse(msgs=[BaseMessage(role_name='Assistant', role_type=<RoleType.ASSISTANT: 'assistant'>, meta_dict={}, content='```json\\n{\\n  \"notes\": [\\n    \"Key scientific findings: The reactivity order of electrophiles in Suzuki coupling is I > OTf > Br > Cl. Boronic acid derivatives vary in stability and activation requirements (trifluoroborates > boronic acids > boronic esters). Ligand choice significantly impacts catalytic activity, with bulky, electron-rich ligands favoring challenging substrates.\",\\n    \"Optimization recommendations: 1) Use higher reactivity electrophiles (I or OTf) if yield is low. 2) Consider trifluoroborate nucleophiles for better stability. 3) Match ligand to substrate reactivity (e.g., bulky phosphines for chloroarenes). 4) Pair CsF with trifluoroborates or stronger bases with boronic esters. 5) Use polar aprotic solvents (DMF) for higher temperature reactions.\"\\n  ]\\n}\\n```', video_bytes=None, image_list=None, image_detail='auto', video_detail='low', parsed=None)], terminated=False, info={'id': 'd7d99ce3-e37b-4f31-aca5-e30a513b5cfd', 'usage': {'completion_tokens': 179, 'prompt_tokens': 2970, 'total_tokens': 3149, 'completion_tokens_details': None, 'prompt_tokens_details': {'audio_tokens': None, 'cached_tokens': 0}, 'prompt_cache_hit_tokens': 0, 'prompt_cache_miss_tokens': 2970}, 'termination_reasons': ['stop'], 'num_tokens': 3467, 'tool_calls': [], 'external_tool_request': None})"
      ]
     },
     "execution_count": 13,
     "metadata": {},
     "output_type": "execute_result"
    }
   ],
   "source": [
    "# ---------------------------------- 从 reasoning data 中提取 notes ----------------------------------\n",
    "\n",
    "print(\"\\n=== 测试从推理数据提取Notes ===\")\n",
    "# prompt 里面要包含 input，是 reasoning data 的占位符\n",
    "reasoning_response = notes_agent.extract_notes(\n",
    "    reasoning_data=reasoning_data,\n",
    "    prompt=\"从推理内容中提取关键科学发现和优化建议，你的回答不能超过 200 字 \\n{input}\",\n",
    ")\n",
    "reasoning_response\n",
    "# print(reasoning_response.msg.content)"
   ]
  },
  {
   "cell_type": "code",
   "execution_count": 15,
   "metadata": {},
   "outputs": [
    {
     "name": "stdout",
     "output_type": "stream",
     "text": [
      "```json\n",
      "{\n",
      "  \"notes\": [\n",
      "    \"Key scientific findings: The reactivity order of electrophiles in Suzuki coupling is I > OTf > Br > Cl. Boronic acid derivatives vary in stability and activation requirements (trifluoroborates > boronic acids > boronic esters). Ligand choice significantly impacts catalytic activity, with bulky, electron-rich ligands favoring challenging substrates.\",\n",
      "    \"Optimization recommendations: 1) Use higher reactivity electrophiles (I or OTf) if yield is low. 2) Consider trifluoroborate nucleophiles for better stability. 3) Match ligand to substrate reactivity (e.g., bulky phosphines for chloroarenes). 4) Pair CsF with trifluoroborates or stronger bases with boronic esters. 5) Use polar aprotic solvents (DMF) for higher temperature reactions.\"\n",
      "  ]\n",
      "}\n",
      "```\n"
     ]
    }
   ],
   "source": [
    "print(reasoning_response.msg.content)"
   ]
  },
  {
   "cell_type": "code",
   "execution_count": 16,
   "metadata": {},
   "outputs": [
    {
     "name": "stdout",
     "output_type": "stream",
     "text": [
      "\n",
      "=== 测试查询功能 ===\n",
      "知识图谱结果: []\n",
      "向量数据库结果: [{'text': 'No suitable information retrieved from Optimization of Suzuki cross-coupling reaction to enhance reaction yield by exploring different elec with similarity_threshold = 0.7.'}]\n"
     ]
    }
   ],
   "source": [
    "# ---------------------------------- 测试查询功能 ----------------------------------\n",
    "print(\"\\n=== 测试查询功能 ===\")\n",
    "query = \"Suzuki反应中配体选择\"\n",
    "results = notes_agent.query_notes(query)\n",
    "print(\"知识图谱结果:\", results[\"knowledge_graph\"][:1])  # 显示第一条\n",
    "print(\"向量数据库结果:\", results[\"vector_db\"][:1])  # 显示第一条"
   ]
  },
  {
   "cell_type": "code",
   "execution_count": 17,
   "metadata": {},
   "outputs": [
    {
     "data": {
      "text/plain": [
       "{'knowledge_graph': [],\n",
       " 'vector_db': [{'text': 'No suitable information retrieved from Optimization of Suzuki cross-coupling reaction to enhance reaction yield by exploring different elec with similarity_threshold = 0.7.'}]}"
      ]
     },
     "execution_count": 17,
     "metadata": {},
     "output_type": "execute_result"
    }
   ],
   "source": [
    "results"
   ]
  },
  {
   "cell_type": "code",
   "execution_count": 22,
   "metadata": {},
   "outputs": [
    {
     "data": {
      "text/plain": [
       "'No suitable information retrieved from Optimization of Suzuki cross-coupling reaction to enhance reaction yield by exploring different elec with similarity_threshold = 0.7.'"
      ]
     },
     "execution_count": 22,
     "metadata": {},
     "output_type": "execute_result"
    }
   ],
   "source": [
    "context = \"\\n\".join(\n",
    "    [note[\"text\"] for note in results[\"vector_db\"] if note.get(\"text\")]\n",
    ")\n",
    "context"
   ]
  },
  {
   "cell_type": "code",
   "execution_count": 23,
   "metadata": {},
   "outputs": [
    {
     "name": "stdout",
     "output_type": "stream",
     "text": [
      "增强后的生成结果: 在Suzuki偶联反应中，溶剂的选择需兼顾溶解性、催化剂兼容性及反应效率。以下是对四种溶剂的分析：\n",
      "\n",
      "1. **C1COCC1（可能为四氢呋喃类醚）**  \n",
      "   醚类溶剂（如THF）具有中等极性，能溶解部分有机化合物和钯催化剂（如Pd(PPh₃)₄），但相比DMF或DMSO，其极性较低，可能对难溶底物的溶解性不足，导致反应速率和产率受限。\n",
      "\n",
      "2. **CO（甲醇）**  \n",
      "   甲醇为质子性溶剂，可能引发钯催化剂的分解或副反应（如配体置换）。此外，Suzuki反应通常需要弱极性和非质子性环境以稳定催化活性物种，甲醇在此类反应中应用较少，产率通常较低。\n",
      "\n",
      "3. **N#CC（乙腈）**  \n",
      " ...\n",
      "2025-03-27 17:08:38,960 - camel.agents.chat_agent - ERROR - Failed in parsing the output into JSON: Expecting value: line 1 column 1 (char 0)\n",
      "Parsed content as plain text: Key scientific findings: DMF (O=CN(C)C) is identified as the optimal solvent for Suzuki coupling due to its high polarity, ability to dissolve reactants and Pd catalysts, and compatibility with high-temperature reactions. THF (C1COCC1) is a viable alternative but less effective for challenging substrates. Methanol (CO) and acetonitrile (N#CC) are less commonly used due to potential catalyst decomposition (methanol) or lower reaction efficiency (acetonitrile).\n",
      "Optimization recommendations: 1) Prioritize DMF for highest yields in standard Suzuki reactions. 2) Use THF when lower polarity is required. 3) Avoid methanol unless specifically required by reaction conditions. 4) Consider mixed solvent systems (e.g., DMF/water) for difficult substrates. 5) Ensure anhydrous conditions when using DMF for sensitive reactions.\n",
      "Save successfully, content: nodes=[Node(id='Suzuki coupling', type='ChemicalReaction', properties={'source': 'agent_created'}), Node(id='Pd catalysts', type='Catalyst', properties={'source': 'agent_created'}), Node(id='Mixed solvent systems', type='SolventSystem', properties={'source': 'agent_created'}), Node(id='Water', type='Solvent', properties={'source': 'agent_created'}), Node(id='Anhydrous conditions', type='ReactionCondition', properties={'source': 'agent_created'}), Node(id='DMF', type='Solvent', properties={'source': 'agent_created'}), Node(id='THF', type='Solvent', properties={'source': 'agent_created'}), Node(id='Methanol', type='Solvent', properties={'source': 'agent_created'}), Node(id='Acetonitrile', type='Solvent', properties={'source': 'agent_created'})] relationships=[] source=<unstructured.documents.elements.Text object at 0x15a148dc0>\n"
     ]
    }
   ],
   "source": [
    "# ---------------------------------- 测试带混合检索的生成 ----------------------------------\n",
    "retrieved_notes = notes_agent.query_notes(\"Suzuki反应溶剂选择\")\n",
    "context = \"\\n\".join(\n",
    "    [note[\"text\"] for note in retrieved_notes[\"vector_db\"] if note.get(\"text\")]\n",
    ")\n",
    "\n",
    "enhanced_prompt = f\"\"\"\n",
    "基于以下背景知识：\n",
    "{context}\n",
    "\n",
    "请回答：\n",
    "在当前的Suzuki反应配置中，溶剂选择{suzuki_config['parameters_and_bounds'][4]['bounds']}，\n",
    "哪种溶剂最适合高产率？给出详细分析。\n",
    "\"\"\"\n",
    "\n",
    "enhanced_content, reasoning_data = deepseek_client.generate(enhanced_prompt)\n",
    "print(\"增强后的生成结果:\", enhanced_content[:300] + \"...\")\n",
    "\n",
    "reasoning_response = notes_agent.extract_notes(\n",
    "    reasoning_data=reasoning_data,\n",
    "    prompt=\"从推理内容中提取关键科学发现和优化建议，你的回答不能超过 200 字 {input}\",\n",
    ")"
   ]
  },
  {
   "cell_type": "code",
   "execution_count": 25,
   "metadata": {},
   "outputs": [
    {
     "name": "stdout",
     "output_type": "stream",
     "text": [
      "在Suzuki偶联反应中，溶剂的选择需兼顾溶解性、催化剂兼容性及反应效率。以下是对四种溶剂的分析：\n",
      "\n",
      "1. **C1COCC1（可能为四氢呋喃类醚）**  \n",
      "   醚类溶剂（如THF）具有中等极性，能溶解部分有机化合物和钯催化剂（如Pd(PPh₃)₄），但相比DMF或DMSO，其极性较低，可能对难溶底物的溶解性不足，导致反应速率和产率受限。\n",
      "\n",
      "2. **CO（甲醇）**  \n",
      "   甲醇为质子性溶剂，可能引发钯催化剂的分解或副反应（如配体置换）。此外，Suzuki反应通常需要弱极性和非质子性环境以稳定催化活性物种，甲醇在此类反应中应用较少，产率通常较低。\n",
      "\n",
      "3. **N#CC（乙腈）**  \n",
      "   乙腈是极性非质子溶剂，对钯催化剂溶解性较好，但沸点较低（82°C），限制了高温反应的应用。虽然乙腈在某些偶联反应中有效，但在Suzuki体系中不如DMF常见，可能导致产率中等。\n",
      "\n",
      "4. **O=CN(C)C（N,N-二甲基甲酰胺，DMF）**  \n",
      "   DMF是强极性非质子溶剂，能高效溶解有机底物和钯催化剂，并提供稳定的反应环境。其高沸点（153°C）允许高温反应，显著提高反应速率和产率。此外，DMF可稳定钯催化剂的活性中间体，减少副反应，是Suzuki反应的经典溶剂选择。\n",
      "\n",
      "**结论**  \n",
      "**DMF（O=CN(C)C）** 是当前配置中最适合的溶剂，因其优异的溶解性、热稳定性及对催化体系的兼容性，能有效提高反应产率。其他溶剂因极性不足（醚类）、质子性干扰（甲醇）或适用性限制（乙腈）而次之。\n"
     ]
    }
   ],
   "source": [
    "print(enhanced_content)"
   ]
  }
 ],
 "metadata": {
  "kernelspec": {
   "display_name": "bo",
   "language": "python",
   "name": "python3"
  },
  "language_info": {
   "codemirror_mode": {
    "name": "ipython",
    "version": 3
   },
   "file_extension": ".py",
   "mimetype": "text/x-python",
   "name": "python",
   "nbconvert_exporter": "python",
   "pygments_lexer": "ipython3",
   "version": "3.10.0"
  }
 },
 "nbformat": 4,
 "nbformat_minor": 2
}
